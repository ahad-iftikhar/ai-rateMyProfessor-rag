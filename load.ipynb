{
 "cells": [
  {
   "cell_type": "code",
   "execution_count": 16,
   "metadata": {},
   "outputs": [],
   "source": [
    "from dotenv import load_dotenv\n",
    "load_dotenv()\n",
    "import os\n",
    "import google.generativeai as gemeni\n",
    "from pinecone import Pinecone, ServerlessSpec"
   ]
  },
  {
   "cell_type": "code",
   "execution_count": 18,
   "metadata": {},
   "outputs": [],
   "source": [
    "gemeni.configure(api_key=os.environ[\"GEMENI_API_KEY\"])\n",
    "pc = Pinecone(api_key=os.getenv('PINECONE_API_KEY'))\n",
    "\n",
    "pc.delete_index(\"rag\")\n",
    "\n",
    "pc.create_index(\n",
    "    name=\"rag\", dimension=768, metric=\"cosine\", spec=ServerlessSpec(cloud=\"aws\", region=\"us-east-1\")\n",
    ")"
   ]
  },
  {
   "cell_type": "code",
   "execution_count": 19,
   "metadata": {},
   "outputs": [
    {
     "data": {
      "text/plain": [
       "[{'professor': 'Dr. Alice Johnson',\n",
       "  'subject': 'Introduction to Computer Science',\n",
       "  'stars': 5,\n",
       "  'review': 'Dr. Johnson explains concepts clearly and makes difficult topics easier to understand. Great lectures!'},\n",
       " {'professor': 'Prof. Michael Smith',\n",
       "  'subject': 'Calculus I',\n",
       "  'stars': 4,\n",
       "  'review': 'Good professor, but the pace of the class can be overwhelming at times. Weekly quizzes are helpful though.'},\n",
       " {'professor': 'Dr. Sarah Lee',\n",
       "  'subject': 'Modern Literature',\n",
       "  'stars': 5,\n",
       "  'review': 'One of the best professors! She brings literature to life, and her classes are always engaging.'},\n",
       " {'professor': 'Dr. Robert Kim',\n",
       "  'subject': 'Organic Chemistry',\n",
       "  'stars': 2,\n",
       "  'review': 'Very difficult course. Dr. Kim is knowledgeable, but the exams are extremely tough, and explanations could be clearer.'},\n",
       " {'professor': 'Prof. Jessica Brown',\n",
       "  'subject': 'World History',\n",
       "  'stars': 4,\n",
       "  'review': 'Her lectures are thorough, and she is passionate about history. Workload is a bit heavy, but manageable.'},\n",
       " {'professor': 'Dr. Emily Davis',\n",
       "  'subject': 'Physics II',\n",
       "  'stars': 3,\n",
       "  'review': 'The class material is challenging, and her teaching style can be a bit fast. However, the office hours are helpful.'},\n",
       " {'professor': 'Prof. David Nguyen',\n",
       "  'subject': 'Philosophy of Mind',\n",
       "  'stars': 5,\n",
       "  'review': 'An inspiring professor with thought-provoking discussions. Made philosophy incredibly interesting.'},\n",
       " {'professor': 'Dr. William Anderson',\n",
       "  'subject': 'Macroeconomics',\n",
       "  'stars': 3,\n",
       "  'review': 'Content is straightforward but his lectures can be a bit dry. The grading is fair though.'},\n",
       " {'professor': 'Prof. Laura Miller',\n",
       "  'subject': 'Introduction to Psychology',\n",
       "  'stars': 4,\n",
       "  'review': 'Engaging and approachable. The exams were tough but fair. Great for beginners in psychology.'},\n",
       " {'professor': 'Dr. Richard Carter',\n",
       "  'subject': 'Statistics',\n",
       "  'stars': 2,\n",
       "  'review': \"Difficult to follow in class. The material is hard, and he doesn't make it much easier. You'll need to study on your own.\"},\n",
       " {'professor': 'Prof. Jennifer Wilson',\n",
       "  'subject': 'Sociology 101',\n",
       "  'stars': 4,\n",
       "  'review': 'Very passionate about the subject. She makes class fun, and the discussions are enlightening.'},\n",
       " {'professor': 'Dr. Mark Lewis',\n",
       "  'subject': 'Artificial Intelligence',\n",
       "  'stars': 5,\n",
       "  'review': 'Great professor with industry knowledge. His classes are difficult but highly rewarding for those willing to put in the effort.'},\n",
       " {'professor': 'Prof. Megan White',\n",
       "  'subject': 'Environmental Science',\n",
       "  'stars': 4,\n",
       "  'review': 'Very knowledgeable and passionate about the environment. Her field trips and projects are fun and educational.'},\n",
       " {'professor': 'Dr. Steven Green',\n",
       "  'subject': 'Linear Algebra',\n",
       "  'stars': 3,\n",
       "  'review': 'The course is tough, but he explains the material well. You will need to practice a lot outside of class.'},\n",
       " {'professor': 'Prof. Anna Baker',\n",
       "  'subject': 'Political Science',\n",
       "  'stars': 4,\n",
       "  'review': 'She encourages critical thinking and class debates. The workload can be heavy, but you learn a lot.'},\n",
       " {'professor': 'Dr. Samuel Turner',\n",
       "  'subject': 'Biochemistry',\n",
       "  'stars': 3,\n",
       "  'review': \"The subject is hard, and his exams are tricky. However, he's approachable and willing to help during office hours.\"},\n",
       " {'professor': 'Prof. Rachel Evans',\n",
       "  'subject': 'Creative Writing',\n",
       "  'stars': 5,\n",
       "  'review': 'Incredible professor! She is always supportive and encourages creativity. The assignments were enjoyable.'},\n",
       " {'professor': 'Dr. Thomas Hall',\n",
       "  'subject': 'Introduction to Law',\n",
       "  'stars': 4,\n",
       "  'review': 'Great lecturer with real-world experience. His exams are hard, but if you pay attention in class, you’ll do well.'},\n",
       " {'professor': 'Prof. Olivia Brown',\n",
       "  'subject': 'Art History',\n",
       "  'stars': 5,\n",
       "  'review': 'Very engaging lectures. Her passion for art is contagious, and her exams are fair.'},\n",
       " {'professor': 'Dr. Charles Bennett',\n",
       "  'subject': 'Neuroscience',\n",
       "  'stars': 4,\n",
       "  'review': 'Challenging course, but he makes the complex topics understandable. You need to stay on top of the readings.'}]"
      ]
     },
     "execution_count": 19,
     "metadata": {},
     "output_type": "execute_result"
    }
   ],
   "source": [
    "import json\n",
    "data = json.load(open(\"reviews.json\"))\n",
    "data['reviews']"
   ]
  },
  {
   "cell_type": "code",
   "execution_count": 20,
   "metadata": {},
   "outputs": [],
   "source": [
    "processed_data = []\n",
    "model_name = \"models/embedding-gecko-001\"\n",
    "# model = genai.GenerativeModel('gemini-1.5-flash')\n",
    "\n",
    "for review in data['reviews']:\n",
    "    response = gemeni.generate_embeddings(\n",
    "        model=model_name,\n",
    "        text=review['review'],\n",
    "    )\n",
    "    embedding = response['embedding']\n",
    "    processed_data.append({\n",
    "        \"values\": embedding,\n",
    "        \"id\": review[\"professor\"],\n",
    "        \"metadata\": {\n",
    "            \"review\": review[\"review\"],\n",
    "            \"subject\": review[\"subject\"],\n",
    "            \"stars\": review[\"stars\"]\n",
    "        }\n",
    "    })"
   ]
  },
  {
   "cell_type": "code",
   "execution_count": null,
   "metadata": {},
   "outputs": [],
   "source": [
    "index=pc.Index(\"rag\")\n",
    "index.upsert(\n",
    "    vectors=processed_data,\n",
    "    namespace=\"ms1\"\n",
    ")"
   ]
  },
  {
   "cell_type": "markdown",
   "metadata": {},
   "source": []
  }
 ],
 "metadata": {
  "kernelspec": {
   "display_name": "rag",
   "language": "python",
   "name": "python3"
  },
  "language_info": {
   "codemirror_mode": {
    "name": "ipython",
    "version": 3
   },
   "file_extension": ".py",
   "mimetype": "text/x-python",
   "name": "python",
   "nbconvert_exporter": "python",
   "pygments_lexer": "ipython3",
   "version": "3.10.14"
  }
 },
 "nbformat": 4,
 "nbformat_minor": 2
}
